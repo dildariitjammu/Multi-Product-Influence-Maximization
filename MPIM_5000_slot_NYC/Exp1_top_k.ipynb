{
 "cells": [
  {
   "cell_type": "code",
   "execution_count": 1,
   "id": "a9cf3f7b-ee68-47f3-86f9-980e54b110bf",
   "metadata": {},
   "outputs": [
    {
     "name": "stdout",
     "output_type": "stream",
     "text": [
      "Budgets: [80.0, 120.0, 160.0, 80.0, 80.0, 160.0, 160.0, 80.0, 80.0, 120.0, 120.0, 120.0, 40.0, 80.0, 120.0, 160.0, 80.0, 80.0, 160.0, 120.0, 120.0, 80.0, 120.0, 120.0, 80.0, 120.0, 120.0, 120.0, 80.0, 120.0, 120.0, 120.0, 40.0, 120.0, 80.0, 80.0, 80.0, 120.0, 120.0, 80.0, 160.0, 80.0, 120.0, 80.0, 120.0, 80.0, 40.0, 120.0, 120.0, 120.0, 80.0, 160.0, 80.0, 160.0, 80.0, 160.0, 120.0, 80.0, 80.0, 160.0, 80.0, 120.0, 80.0, 120.0, 120.0, 80.0, 120.0, 80.0, 80.0, 120.0, 120.0, 80.0, 120.0, 120.0, 120.0, 120.0, 80.0, 120.0, 120.0, 120.0, 80.0, 120.0, 120.0, 120.0, 120.0, 160.0, 120.0, 120.0, 120.0, 120.0, 120.0, 120.0, 160.0, 160.0, 80.0, 160.0, 120.0, 80.0, 80.0, 120.0]\n"
     ]
    }
   ],
   "source": [
    "import csv\n",
    "import ast\n",
    "import numpy as np\n",
    "import time\n",
    "\n",
    "start = time.time()\n",
    "\n",
    "# --- Load BB (Billboard data) ---\n",
    "BB = []\n",
    "with open(\"BB_NYC.csv\", 'r') as file:\n",
    "    reader = csv.DictReader(file)\n",
    "    for row in reader:   # ✅ Loop starts here\n",
    "        BB.append({\n",
    "            'idx': int(row['B_index']),\n",
    "            'cost': float(row['Cost']),\n",
    "            'Influence': float(row['Influence'])   # ✅ Now this is valid\n",
    "        })\n",
    "\n",
    "\n",
    "# Sort billboard data by descending influence\n",
    "BB.sort(key=lambda x: x['Influence'], reverse=True)\n",
    "# print(BB)\n",
    "\n",
    "# --- Load ub (User influence data) ---\n",
    "ub = []\n",
    "with open(\"new_ub.csv\", 'r') as file:\n",
    "    reader = csv.DictReader(file)\n",
    "    for row in reader:\n",
    "        row['Influenced Billboards'] = ast.literal_eval(row['Influenced Billboards'])\n",
    "        ub.append(row)\n",
    "\n",
    "# --- Load Demand and Budget (from advertiser_1.csv) ---\n",
    "Dem = []\n",
    "Budget = []\n",
    "with open(\"advertiser_1.csv\", 'r') as file:\n",
    "    reader = csv.DictReader(file)\n",
    "    for row in reader:\n",
    "        Dem.append(float(row['Demand']))\n",
    "        Budget.append(float(row['Payment']))\n",
    "\n",
    "print(\"Budgets:\", Budget)\n",
    "\n",
    "# BillboardSlot class\n",
    "class BillboardSlot:\n",
    "    def __init__(self, idx):\n",
    "        self.idx = idx\n",
    "    def __repr__(self):\n",
    "        return f\"Slot({self.idx})\"\n",
    "\n",
    "# Convert BB to BillboardSlot objects using B_index\n",
    "BS = [BillboardSlot(item['idx']) for item in BB[:5000]]\n",
    "# print(\"BS\",BS)"
   ]
  },
  {
   "cell_type": "code",
   "execution_count": 2,
   "id": "90ada6f9-0e06-45e0-bba0-7acf78f3d6a2",
   "metadata": {},
   "outputs": [],
   "source": [
    "# Influence function\n",
    "def influence(S):\n",
    "    influence_score = 0.0\n",
    "    slot_ids = {s.idx if isinstance(s, BillboardSlot) else s for s in S}\n",
    "    # print(\"slot_ids\",slot_ids)\n",
    "    for row in ub:\n",
    "        influenced_billboards = row['Influenced Billboards']\n",
    "        intersection_result = {int(key): value for key, value in influenced_billboards.items() if int(key) in slot_ids}\n",
    "        product = 1.0\n",
    "        # print(\"Intersection Result:\",intersection_result)\n",
    "        for value in intersection_result.values():\n",
    "            # print(\"vlaue\",value)\n",
    "            \n",
    "            product *= (1 - value)\n",
    "            # print(\"product\",product)\n",
    "        influence_score += (1 - product)\n",
    "        # print(\"influence_score\",influence_score)\n",
    "    return influence_score"
   ]
  },
  {
   "cell_type": "code",
   "execution_count": 3,
   "id": "de09400a-1749-47ba-970a-fec9c6597a2c",
   "metadata": {},
   "outputs": [],
   "source": [
    "def assign_top_influential(BS, Dem, Budget):\n",
    "    # Mapping slot.idx → cost\n",
    "    slot_cost_map = {slot['idx']: slot['cost'] for slot in BB}\n",
    "\n",
    "    used_slots = set()  # Globally used slot indices\n",
    "    Si_list = [set() for _ in Dem]  # Slots assigned per product\n",
    "    \n",
    "    index = 0  # Index into sorted BS list\n",
    "\n",
    "    for j in range(len(Dem)):\n",
    "        demand = Dem[j]\n",
    "        current_influence = 0.0\n",
    "        remaining_budget = Budget[j]  # Track remaining budget for each product\n",
    "        \n",
    "        while current_influence < demand and index < len(BS):\n",
    "            slot = BS[index]\n",
    "            index += 1\n",
    "\n",
    "            # Skip if slot is already used\n",
    "            if slot.idx in used_slots:\n",
    "                continue\n",
    "\n",
    "            cost = slot_cost_map.get(slot.idx, 0.0)\n",
    "\n",
    "            \n",
    "            if cost > remaining_budget:\n",
    "                continue  # Skip if too costly\n",
    "\n",
    "            # Assign slot\n",
    "            Si_list[j].add(slot.idx)\n",
    "            used_slots.add(slot.idx)\n",
    "            remaining_budget -= cost  # Deduct cost from remaining budget\n",
    "\n",
    "            # Update influence\n",
    "            current_influence = influence(Si_list[j])\n",
    "\n",
    "        # Optional warning\n",
    "        if current_influence < demand:\n",
    "            print(f\"[!] Product {j}: Demand not fully satisfied → Influence = {current_influence:.2f}, Demand = {demand:.2f}, Budget = {Budget[j]:.2f}\")\n",
    "\n",
    "    return Si_list\n"
   ]
  },
  {
   "cell_type": "code",
   "execution_count": 4,
   "id": "13fedd55-d7c0-4686-a154-787efc89c9a6",
   "metadata": {},
   "outputs": [
    {
     "name": "stdout",
     "output_type": "stream",
     "text": [
      "\n",
      "Total Unique Slots Selected: 113\n",
      "Total Combined Influence: 875.6470898064698\n",
      "Execution Time: 0.82 seconds\n",
      "Number of products whose demands are satisfied: 100 out of 100\n"
     ]
    }
   ],
   "source": [
    "# Run the budget-constrained top-k allocation\n",
    "result = assign_top_influential(BS, Dem, Budget)\n",
    "total_influence = 0.0\n",
    "\n",
    "# Print per-product results with Demand\n",
    "for i, slots in enumerate(result):\n",
    "    slot_cost = sum(BB[slot]['cost'] for slot in slots if slot < len(BB))\n",
    "    achieved_influence = influence(slots)\n",
    "    total_influence += achieved_influence\n",
    "    # print(f\"Product {i+1}: Demand = {Dem[i]:.2f}, Influence = {achieved_influence:.2f}, \"\n",
    "    #       f\"Cost = {slot_cost:.2f}, Budget = {Budget[i]:.2f}, Slots = {sorted(list(slots))}\")\n",
    "\n",
    "# Total unique slots and influence\n",
    "all_selected = set().union(*result)\n",
    "print(\"\\nTotal Unique Slots Selected:\", len(all_selected))\n",
    "print(\"Total Combined Influence:\", total_influence)\n",
    "print(\"Execution Time:\", round(time.time() - start, 2), \"seconds\")\n",
    "\n",
    "# Count satisfied products\n",
    "satisfied_count = sum(1 for j in range(len(Dem)) if influence(result[j]) >= Dem[j])\n",
    "print(\"Number of products whose demands are satisfied:\", satisfied_count, \"out of\", len(Dem))"
   ]
  },
  {
   "cell_type": "code",
   "execution_count": 5,
   "id": "68ad8631-bb6a-43b7-83c8-0093a4420f61",
   "metadata": {},
   "outputs": [
    {
     "name": "stdout",
     "output_type": "stream",
     "text": [
      "Number of products whose demands are satisfied: 100 out of 100\n"
     ]
    }
   ],
   "source": [
    "h = len(Dem)\n",
    "count = 0\n",
    "\n",
    "for j in range(h):\n",
    "    if influence(result[j]) >= Dem[j]:\n",
    "        count += 1\n",
    "\n",
    "print(\"Number of products whose demands are satisfied:\", count, \"out of\", h)\n"
   ]
  },
  {
   "cell_type": "code",
   "execution_count": null,
   "id": "d406ddde-fcb5-4842-a2f7-5205a5afbddd",
   "metadata": {},
   "outputs": [],
   "source": []
  }
 ],
 "metadata": {
  "kernelspec": {
   "display_name": "Python 3 (ipykernel)",
   "language": "python",
   "name": "python3"
  },
  "language_info": {
   "codemirror_mode": {
    "name": "ipython",
    "version": 3
   },
   "file_extension": ".py",
   "mimetype": "text/x-python",
   "name": "python",
   "nbconvert_exporter": "python",
   "pygments_lexer": "ipython3",
   "version": "3.13.1"
  }
 },
 "nbformat": 4,
 "nbformat_minor": 5
}
