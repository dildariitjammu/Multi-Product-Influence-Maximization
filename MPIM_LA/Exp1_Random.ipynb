{
 "cells": [
  {
   "cell_type": "code",
   "execution_count": 1,
   "id": "e7bdb322-53df-4d88-b39f-3e0addb3f9d8",
   "metadata": {},
   "outputs": [
    {
     "name": "stdout",
     "output_type": "stream",
     "text": [
      "Budgets: [1758.0, 1318.0, 1305.0, 1196.0, 1626.0, 1515.0, 1297.0, 1187.0, 1184.0, 1506.0, 1398.0, 1395.0, 1502.0, 1178.0, 1285.0, 1494.0, 1490.0, 1277.0, 1274.0, 1270.0, 1691.0, 1475.0, 1474.0, 1263.0, 1367.0, 1472.0, 1575.0, 1154.0, 1154.0, 1571.0, 1465.0, 1360.0, 1565.0, 1458.0, 1245.0, 1444.0, 1131.0, 1336.0, 1336.0, 1130.0, 1130.0, 1639.0, 1228.0, 1226.0, 1225.0, 1429.0, 1630.0, 1120.0, 1322.0, 1423.0, 1524.0, 1117.0, 1418.0, 1517.0, 1211.0, 1310.0, 1511.0, 1509.0, 1202.0, 1498.0, 1097.0, 1493.0, 1094.0, 1392.0, 1193.0, 1092.0, 1587.0, 1483.0, 1184.0, 1181.0, 1371.0, 1077.0, 1562.0, 1072.0, 1363.0, 1549.0, 1060.0, 1346.0, 1344.0, 1051.0, 1145.0, 1142.0, 1139.0, 1423.0, 1042.0, 1041.0, 1318.0, 1502.0, 1403.0, 1306.0, 1119.0, 1392.0, 1291.0, 1287.0, 1469.0, 1368.0, 999.0, 1268.0, 994.0, 1352.0]\n"
     ]
    }
   ],
   "source": [
    "import csv\n",
    "import ast\n",
    "import numpy as np\n",
    "import time\n",
    "import random\n",
    "\n",
    "start = time.time()\n",
    "\n",
    "# --- Load Billboard Data (BB) ---\n",
    "BB = []\n",
    "with open(\"BB_LA.csv\", 'r') as file:\n",
    "    reader = csv.DictReader(file)\n",
    "    for row in reader:\n",
    "        BB.append({\n",
    "            'idx': int(row['B_index']),\n",
    "            'cost': float(row['Cost'])\n",
    "        })\n",
    "\n",
    "# --- Load User Influence Data (ub) ---\n",
    "ub = []\n",
    "with open(\"new_ub.csv\", 'r') as file:\n",
    "    reader = csv.DictReader(file)\n",
    "    for row in reader:\n",
    "        row['Influenced Billboards'] = ast.literal_eval(row['Influenced Billboards'])\n",
    "        ub.append(row)\n",
    "\n",
    "# --- Load Demand and Budget (from advertiser_1.csv) ---\n",
    "Dem = []\n",
    "Budget = []\n",
    "with open(\"Advertiser_LA1.csv\", 'r') as file:\n",
    "    reader = csv.DictReader(file)\n",
    "    for row in reader:\n",
    "        Dem.append(float(row['Demand']))\n",
    "        Budget.append(float(row['Payment']))\n",
    "\n",
    "print(\"Budgets:\", Budget)\n",
    "\n",
    "# --- BillboardSlot Class ---\n",
    "class BillboardSlot:\n",
    "    def __init__(self, idx):\n",
    "        self.idx = idx\n",
    "\n",
    "    def __repr__(self):\n",
    "        return f\"Slot({self.idx})\"\n",
    "\n",
    "# --- Convert BB to BillboardSlot Objects ---\n",
    "BS = [BillboardSlot(item['idx']) for item in BB]\n"
   ]
  },
  {
   "cell_type": "code",
   "execution_count": 2,
   "id": "0b63d136-2298-41e4-a5ff-bc3a5c92d4d2",
   "metadata": {},
   "outputs": [],
   "source": [
    "# Influence function\n",
    "def influence(S):\n",
    "    influence_score = 0.0\n",
    "    slot_ids = {s.idx if isinstance(s, BillboardSlot) else s for s in S}\n",
    "   \n",
    "    for row in ub:\n",
    "        influenced_billboards = row.get('Influenced Billboards', {})\n",
    "       \n",
    "        intersection_result = {int(key): value for key, value in influenced_billboards.items() if int(key) in slot_ids}\n",
    "       \n",
    "        product = 1.0\n",
    "        for value in intersection_result.values():\n",
    "            product *= (1 - value)\n",
    "        influence_score += (1 - product)\n",
    "    return influence_score"
   ]
  },
  {
   "cell_type": "code",
   "execution_count": 3,
   "id": "08665931-d4b3-4087-9dc0-86b196c5cfcc",
   "metadata": {},
   "outputs": [],
   "source": [
    "def random_pick(BS, Dem, Budget):\n",
    "    import random\n",
    "\n",
    "    # Build a mapping from slot.idx to cost\n",
    "    slot_cost_map = {slot['idx']: slot['cost'] for slot in BB}\n",
    "\n",
    "    available_slots = {slot.idx for slot in BS}\n",
    "    used_slots = set()\n",
    "    Si_list = [set() for _ in Dem]     # Slot sets per product\n",
    "    total_costs = [0.0 for _ in Dem]   # Total cost per product\n",
    "\n",
    "    for j in range(len(Dem)):\n",
    "        demand = Dem[j]\n",
    "        remaining_budget = Budget[j]\n",
    "        current_influence = 0.0\n",
    "\n",
    "        while current_influence < demand:\n",
    "            remaining = list(available_slots - used_slots - Si_list[j])\n",
    "            if not remaining:\n",
    "                print(f\"No more slots available to fulfill demand for product {j}.\")\n",
    "                break\n",
    "\n",
    "            selected = random.choice(remaining)\n",
    "            selected_cost = slot_cost_map.get(selected, 0)\n",
    "\n",
    "            if selected_cost > remaining_budget:\n",
    "                continue  # Skip if this slot exceeds remaining budget\n",
    "\n",
    "            # Accept the slot\n",
    "            Si_list[j].add(selected)\n",
    "            total_costs[j] += selected_cost\n",
    "            remaining_budget -= selected_cost\n",
    "            current_influence = influence(Si_list[j])\n",
    "            used_slots.add(selected)\n",
    "\n",
    "        if current_influence < demand:\n",
    "            print(f\"Warning: Demand for product {j} not fully satisfied (Influence = {current_influence:.2f}, Needed = {demand:.2f}).\")\n",
    "\n",
    "    return Si_list\n"
   ]
  },
  {
   "cell_type": "code",
   "execution_count": 4,
   "id": "e759e00c-1fc5-4c01-af92-39b7564174cb",
   "metadata": {},
   "outputs": [
    {
     "name": "stdout",
     "output_type": "stream",
     "text": [
      "\n",
      "Total Unique Slots Selected: 1272\n",
      "Total Combined Influence: 1461.8853945223923\n",
      "Execution Time: 3.18 seconds\n",
      "Number of products whose demands are satisfied: 100 out of 100\n"
     ]
    }
   ],
   "source": [
    "# Run the allocation\n",
    "result = random_pick(BS, Dem, Budget)\n",
    "total_influence = 0.0\n",
    "\n",
    "# Print per-product results with Demand\n",
    "for i, slots in enumerate(result):\n",
    "    slot_cost = sum(BB[slot]['cost'] for slot in slots if slot < len(BB))\n",
    "    achieved_influence = influence(slots)\n",
    "    total_influence += achieved_influence\n",
    "    # print(f\"Product {i+1}: Demand = {Dem[i]:.2f}, Influence = {achieved_influence:.2f}, \"\n",
    "    #       f\"Cost = {slot_cost:.2f}, Budget = {Budget[i]:.2f}, Slots = {sorted(list(slots))}\")\n",
    "\n",
    "# Total unique slots and influence\n",
    "all_selected = set().union(*result)\n",
    "print(\"\\nTotal Unique Slots Selected:\", len(all_selected))\n",
    "print(\"Total Combined Influence:\",total_influence)\n",
    "print(\"Execution Time:\", round(time.time() - start, 2), \"seconds\")\n",
    "\n",
    "# Count satisfied products\n",
    "satisfied_count = sum(1 for j in range(len(Dem)) if influence(result[j]) >= Dem[j])\n",
    "print(\"Number of products whose demands are satisfied:\", satisfied_count, \"out of\", len(Dem))\n"
   ]
  },
  {
   "cell_type": "code",
   "execution_count": 5,
   "id": "30ee9ea2-9241-4381-84a5-a0fb6c5724c4",
   "metadata": {},
   "outputs": [
    {
     "name": "stdout",
     "output_type": "stream",
     "text": [
      "Number of products whose demands are satisfied: 100 out of 100\n"
     ]
    }
   ],
   "source": [
    "h = len(Dem)\n",
    "count = 0\n",
    "\n",
    "for j in range(h):\n",
    "    if influence(result[j]) >= Dem[j]:\n",
    "        count += 1\n",
    "\n",
    "print(\"Number of products whose demands are satisfied:\", count, \"out of\", h)\n"
   ]
  },
  {
   "cell_type": "code",
   "execution_count": null,
   "id": "a0715d42-a360-45ae-b387-2b82ed619b66",
   "metadata": {},
   "outputs": [],
   "source": []
  }
 ],
 "metadata": {
  "kernelspec": {
   "display_name": "Python 3 (ipykernel)",
   "language": "python",
   "name": "python3"
  },
  "language_info": {
   "codemirror_mode": {
    "name": "ipython",
    "version": 3
   },
   "file_extension": ".py",
   "mimetype": "text/x-python",
   "name": "python",
   "nbconvert_exporter": "python",
   "pygments_lexer": "ipython3",
   "version": "3.13.1"
  }
 },
 "nbformat": 4,
 "nbformat_minor": 5
}
