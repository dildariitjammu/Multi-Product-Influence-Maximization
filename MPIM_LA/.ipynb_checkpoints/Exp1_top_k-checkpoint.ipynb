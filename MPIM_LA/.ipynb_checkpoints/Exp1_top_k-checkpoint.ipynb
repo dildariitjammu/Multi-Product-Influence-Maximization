{
 "cells": [
  {
   "cell_type": "code",
   "execution_count": 1,
   "id": "a9cf3f7b-ee68-47f3-86f9-980e54b110bf",
   "metadata": {},
   "outputs": [],
   "source": [
    "import csv\n",
    "import ast\n",
    "import numpy as np\n",
    "import time\n",
    "\n",
    "start = time.time()\n",
    "\n",
    "# --- Load BB (Billboard data) ---\n",
    "BB = []\n",
    "with open(\"BB_NYC.csv\", 'r') as file:\n",
    "    reader = csv.DictReader(file)\n",
    "    for row in reader:\n",
    "        BB.append({\n",
    "            'B_index': int(row['B_index']),           \n",
    "            'Influence': float(row['Influence'])     \n",
    "        })\n",
    "\n",
    "# Sort billboard data by descending influence\n",
    "BB.sort(key=lambda x: x['Influence'], reverse=True)\n",
    "# print(BB)\n",
    "\n",
    "# --- Load ub (User influence data) ---\n",
    "ub = []\n",
    "with open(\"new_ub.csv\", 'r') as file:\n",
    "    reader = csv.DictReader(file)\n",
    "    for row in reader:\n",
    "        row['Influenced Billboards'] = ast.literal_eval(row['Influenced Billboards'])\n",
    "        ub.append(row)\n",
    "\n",
    "# --- Load Dem (Demand values) ---\n",
    "Dem = []\n",
    "with open(\"advertiser_1.csv\", 'r') as file:\n",
    "    reader = csv.DictReader(file)\n",
    "    for row in reader:\n",
    "        Dem.append(float(row['Demand']))\n",
    "\n",
    "# BillboardSlot class\n",
    "class BillboardSlot:\n",
    "    def __init__(self, idx):\n",
    "        self.idx = idx\n",
    "    def __repr__(self):\n",
    "        return f\"Slot({self.idx})\"\n",
    "\n",
    "# Convert BB to BillboardSlot objects using B_index\n",
    "BS = [BillboardSlot(item['B_index']) for item in BB[:5000]]\n",
    "# print(\"BS\",BS)"
   ]
  },
  {
   "cell_type": "code",
   "execution_count": 2,
   "id": "90ada6f9-0e06-45e0-bba0-7acf78f3d6a2",
   "metadata": {},
   "outputs": [],
   "source": [
    "# Influence function\n",
    "def influence(S):\n",
    "    influence_score = 0.0\n",
    "    slot_ids = {s.idx if isinstance(s, BillboardSlot) else s for s in S}\n",
    "    # print(\"slot_ids\",slot_ids)\n",
    "    for row in ub:\n",
    "        influenced_billboards = row['Influenced Billboards']\n",
    "        intersection_result = {int(key): value for key, value in influenced_billboards.items() if int(key) in slot_ids}\n",
    "        product = 1.0\n",
    "        # print(\"Intersection Result:\",intersection_result)\n",
    "        for value in intersection_result.values():\n",
    "            # print(\"vlaue\",value)\n",
    "            \n",
    "            product *= (1 - value)\n",
    "            # print(\"product\",product)\n",
    "        influence_score += (1 - product)\n",
    "        # print(\"influence_score\",influence_score)\n",
    "    return influence_score"
   ]
  },
  {
   "cell_type": "code",
   "execution_count": 3,
   "id": "de09400a-1749-47ba-970a-fec9c6597a2c",
   "metadata": {},
   "outputs": [],
   "source": [
    "# Highest-influence-first assignment\n",
    "def assign_top_influential(BS, Dem):\n",
    "    S = set()\n",
    "    \n",
    "    index = 0  # Index into sorted BS list\n",
    "    j = 0\n",
    "    while j < len(Dem):\n",
    "        demand = Dem[j]  \n",
    "        # print(f\"\\nFulfilling demand for advertiser {j} (demand = {demand:.2f})\")\n",
    "        T_j = set(S)\n",
    "        # print(\"T_j\",T_j)\n",
    "        current_influence = influence(T_j)\n",
    "        # print(\"current influence\",current_influence)\n",
    "        if current_influence >= demand:\n",
    "            # print(f\"Advertiser {j} already satisfied by current set. Influence = {current_influence:.2f}\")\n",
    "            j += 1  # Move to next advertiser\n",
    "            continue\n",
    "        \n",
    "\n",
    "        while current_influence < demand and index < len(BS):\n",
    "            next_slot = BS[index].idx\n",
    "            index += 1\n",
    "            \n",
    "            \n",
    "            T_j.add(next_slot)\n",
    "          \n",
    "            current_influence = influence(T_j)\n",
    "\n",
    "        S |= T_j\n",
    "        j += 1\n",
    "\n",
    "    return S"
   ]
  },
  {
   "cell_type": "code",
   "execution_count": 4,
   "id": "13fedd55-d7c0-4686-a154-787efc89c9a6",
   "metadata": {},
   "outputs": [
    {
     "name": "stdout",
     "output_type": "stream",
     "text": [
      "Total Selected Slots: 1\n",
      "Total Influence: 28.537130842014694\n",
      "Execution time: 0.24 seconds\n"
     ]
    }
   ],
   "source": [
    "# Run the allocation\n",
    "result = assign_top_influential(BS, Dem)\n",
    "\n",
    "# print(\"\\nFinal Result Subset:\", result)\n",
    "print(\"Total Selected Slots:\", len(result))\n",
    "print(\"Total Influence:\", influence(result))\n",
    "print(\"Execution time:\", round(time.time() - start, 2), \"seconds\")\n"
   ]
  },
  {
   "cell_type": "code",
   "execution_count": 5,
   "id": "68ad8631-bb6a-43b7-83c8-0093a4420f61",
   "metadata": {},
   "outputs": [
    {
     "name": "stdout",
     "output_type": "stream",
     "text": [
      "no of products whose demands are got satisfied : 100\n"
     ]
    }
   ],
   "source": [
    "h = len(Dem)\n",
    "count = 0\n",
    "for j in range(h):\n",
    "    if influence(result) > Dem[j]:\n",
    "        count = count+1\n",
    "print(\"no of products whose demands are got satisfied :\",count ) "
   ]
  },
  {
   "cell_type": "code",
   "execution_count": null,
   "id": "d406ddde-fcb5-4842-a2f7-5205a5afbddd",
   "metadata": {},
   "outputs": [],
   "source": []
  }
 ],
 "metadata": {
  "kernelspec": {
   "display_name": "Python 3 (ipykernel)",
   "language": "python",
   "name": "python3"
  },
  "language_info": {
   "codemirror_mode": {
    "name": "ipython",
    "version": 3
   },
   "file_extension": ".py",
   "mimetype": "text/x-python",
   "name": "python",
   "nbconvert_exporter": "python",
   "pygments_lexer": "ipython3",
   "version": "3.10.12"
  }
 },
 "nbformat": 4,
 "nbformat_minor": 5
}
