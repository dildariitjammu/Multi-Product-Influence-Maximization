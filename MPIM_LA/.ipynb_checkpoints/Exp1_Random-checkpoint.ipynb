{
 "cells": [
  {
   "cell_type": "code",
   "execution_count": 1,
   "id": "e7bdb322-53df-4d88-b39f-3e0addb3f9d8",
   "metadata": {},
   "outputs": [],
   "source": [
    "import csv\n",
    "import ast\n",
    "import numpy as np\n",
    "import time\n",
    "import random\n",
    "\n",
    "start = time.time()\n",
    "\n",
    "# --- Load BB (Billboard data) ---\n",
    "BB = []\n",
    "with open(\"BB_NYC.csv\", 'r') as file:\n",
    "    reader = csv.DictReader(file)\n",
    "    for row in reader:\n",
    "        BB.append({'B_id': int(row['B_index'])})\n",
    "\n",
    "# --- Load ub (User influence data) ---\n",
    "ub = []\n",
    "with open(\"new_ub.csv\", 'r') as file:\n",
    "    reader = csv.DictReader(file)\n",
    "    for row in reader:\n",
    "        row['Influenced Billboards'] = ast.literal_eval(row['Influenced Billboards'])\n",
    "        ub.append(row)\n",
    "\n",
    "# --- Load Dem (Demand values) ---\n",
    "Dem = []\n",
    "with open(\"advertiser_1.csv\", 'r') as file:\n",
    "    reader = csv.DictReader(file)\n",
    "    for row in reader:\n",
    "        Dem.append(float(row['Demand']))\n",
    "\n",
    "# BillboardSlot class\n",
    "class BillboardSlot:\n",
    "    def __init__(self, idx):\n",
    "        self.idx = idx\n",
    "\n",
    "    def __repr__(self):\n",
    "        return f\"Slot({self.idx})\"\n",
    "\n",
    "# Convert BB to billboard slots\n",
    "BS = [BillboardSlot(item['B_id']) for item in BB[:5000]]"
   ]
  },
  {
   "cell_type": "code",
   "execution_count": 2,
   "id": "0b63d136-2298-41e4-a5ff-bc3a5c92d4d2",
   "metadata": {},
   "outputs": [],
   "source": [
    "# Influence function\n",
    "def influence(S):\n",
    "    influence_score = 0.0\n",
    "    slot_ids = {s.idx if isinstance(s, BillboardSlot) else s for s in S}\n",
    "   \n",
    "    for row in ub:\n",
    "        influenced_billboards = row.get('Influenced Billboards', {})\n",
    "       \n",
    "        intersection_result = {int(key): value for key, value in influenced_billboards.items() if int(key) in slot_ids}\n",
    "       \n",
    "        product = 1.0\n",
    "        for value in intersection_result.values():\n",
    "            product *= (1 - value)\n",
    "        influence_score += (1 - product)\n",
    "    return influence_score"
   ]
  },
  {
   "cell_type": "code",
   "execution_count": 3,
   "id": "08665931-d4b3-4087-9dc0-86b196c5cfcc",
   "metadata": {},
   "outputs": [],
   "source": [
    "def random_pick(BS, Dem):\n",
    "    S = set()  # Final result set\n",
    "    available_slots = {slot.idx for slot in BS}  # All billboard IDs\n",
    "    \n",
    "\n",
    "    j = 0  # Advertiser index\n",
    "    while j < len(Dem):\n",
    "        demand = Dem[j]\n",
    "        # print(f\"\\nChecking demand for advertiser {j} (demand = {demand:.2f})\")\n",
    "\n",
    "        # Start with a clean T_j or reuse from S\n",
    "        T_j = set(S)\n",
    "\n",
    "        current_influence = influence(T_j)\n",
    "        \n",
    "        if current_influence >= demand:\n",
    "            # print(f\"Advertiser {j} already satisfied by current set. Influence = {current_influence:.2f}\")\n",
    "            j += 1  # Move to next advertiser\n",
    "            continue\n",
    "\n",
    "        # Keep adding slots until demand is satisfied\n",
    "        while current_influence < demand:\n",
    "            remaining = list(available_slots - S - T_j)\n",
    "            if not remaining:\n",
    "                # print(\"No more slots left to add.\")\n",
    "                break\n",
    "            selected = random.choice(remaining)\n",
    "            T_j.add(selected)\n",
    "            \n",
    "\n",
    "            current_influence = influence(T_j)\n",
    "            # print(\"T_j\",T_j)\n",
    "            # print(\"current influence\",current_influence)\n",
    "\n",
    "        S |= T_j\n",
    "\n",
    "        j += 1  # Move to next advertiser\n",
    "\n",
    "    return S"
   ]
  },
  {
   "cell_type": "code",
   "execution_count": 4,
   "id": "e759e00c-1fc5-4c01-af92-39b7564174cb",
   "metadata": {},
   "outputs": [
    {
     "name": "stdout",
     "output_type": "stream",
     "text": [
      "no of randomly selected slots: 12\n",
      "Influence of the result: 7.726752354425535\n",
      "Execution time: 0.25 seconds\n"
     ]
    }
   ],
   "source": [
    "result = random_pick(BS,Dem)\n",
    "# print(\"result subset:\",result)\n",
    "print(\"no of randomly selected slots:\",len(result))\n",
    "print(\"Influence of the result:\",influence(result))\n",
    "print(\"Execution time:\", round(time.time() - start, 2), \"seconds\")"
   ]
  },
  {
   "cell_type": "code",
   "execution_count": 5,
   "id": "30ee9ea2-9241-4381-84a5-a0fb6c5724c4",
   "metadata": {},
   "outputs": [
    {
     "name": "stdout",
     "output_type": "stream",
     "text": [
      "no of products whose demands are got satisfied : 100\n"
     ]
    }
   ],
   "source": [
    "h = len(Dem)\n",
    "count = 0\n",
    "for j in range(h):\n",
    "    if influence(result) > Dem[j]:\n",
    "        count = count+1\n",
    "print(\"no of products whose demands are got satisfied :\",count ) "
   ]
  }
 ],
 "metadata": {
  "kernelspec": {
   "display_name": "Python 3 (ipykernel)",
   "language": "python",
   "name": "python3"
  },
  "language_info": {
   "codemirror_mode": {
    "name": "ipython",
    "version": 3
   },
   "file_extension": ".py",
   "mimetype": "text/x-python",
   "name": "python",
   "nbconvert_exporter": "python",
   "pygments_lexer": "ipython3",
   "version": "3.10.12"
  }
 },
 "nbformat": 4,
 "nbformat_minor": 5
}
